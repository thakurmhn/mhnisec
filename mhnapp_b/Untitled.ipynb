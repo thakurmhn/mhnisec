{
 "cells": [
  {
   "cell_type": "code",
   "execution_count": 3,
   "id": "7c89cc97-2325-46db-b783-19f1eee32717",
   "metadata": {},
   "outputs": [],
   "source": [
    "import pandas as pd\n",
    "import urllib.request\n",
    "import zipfile\n",
    "import warnings\n",
    "warnings.filterwarnings('ignore')"
   ]
  },
  {
   "cell_type": "code",
   "execution_count": 19,
   "id": "7d29984d-0b06-4c58-81ed-6e9f87ecb348",
   "metadata": {},
   "outputs": [],
   "source": [
    "# Download Instrument for URL\n",
    "def dowonload_instruments():\n",
    "    url = 'https://directlink.icicidirect.com/NewSecurityMaster/SecurityMaster.zip'\n",
    "    urllib.request.urlretrieve(url, \"Data/SecurityMaster.zip\")\n",
    "    with zipfile.ZipFile(\"Data/SecurityMaster.zip\", 'r') as zip_ref:\n",
    "        zip_ref.extractall('Data')\n",
    "    print('instruments downloaded')"
   ]
  },
  {
   "cell_type": "code",
   "execution_count": 20,
   "id": "ad37cea5-f35d-4207-8585-ff8c6a2016de",
   "metadata": {},
   "outputs": [
    {
     "name": "stdout",
     "output_type": "stream",
     "text": [
      "instruments downloaded\n"
     ]
    }
   ],
   "source": [
    "dowonload_instruments()"
   ]
  },
  {
   "cell_type": "code",
   "execution_count": 4,
   "id": "dff4ed22-96d5-4fd0-96c5-4ec61a8f91cd",
   "metadata": {},
   "outputs": [],
   "source": [
    "df = pd.read_csv(\"Data/nifty.csv\")\n",
    "#print(\"hello\")"
   ]
  },
  {
   "cell_type": "code",
   "execution_count": null,
   "id": "b8f49baf-80c9-41bb-8def-dd58e56bc35b",
   "metadata": {},
   "outputs": [],
   "source": []
  }
 ],
 "metadata": {
  "kernelspec": {
   "display_name": "Python 3 (ipykernel)",
   "language": "python",
   "name": "python3"
  },
  "language_info": {
   "codemirror_mode": {
    "name": "ipython",
    "version": 3
   },
   "file_extension": ".py",
   "mimetype": "text/x-python",
   "name": "python",
   "nbconvert_exporter": "python",
   "pygments_lexer": "ipython3",
   "version": "3.9.16"
  }
 },
 "nbformat": 4,
 "nbformat_minor": 5
}
