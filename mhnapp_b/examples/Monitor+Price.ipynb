{
 "cells": [
  {
   "cell_type": "code",
   "execution_count": null,
   "id": "65d56d7f",
   "metadata": {},
   "outputs": [],
   "source": [
    "import pandas as pd\n",
    "from breeze_connect import BreezeConnect\n",
    "import mysql.connector as sqlConnector\n",
    "from datetime import date\n",
    "import time\n",
    "global session\n",
    "session=''\n",
    "import warnings\n",
    "warnings.filterwarnings('ignore')"
   ]
  },
  {
   "cell_type": "code",
   "execution_count": null,
   "id": "2c1cd5d3",
   "metadata": {},
   "outputs": [],
   "source": [
    "class DBBasic:\n",
    "    con = sqlConnector.connect(host=\"xyz.in\", user=\"user\", passwd=\"*******\", database=\"algo\", port=\"3309\")\n",
    "    def __init__(self):\n",
    "        pass\n",
    "    \n",
    "    def GetTempToken(self):\n",
    "        cursor = self.con.cursor()\n",
    "        cursor.execute('Select SQL_NO_CACHE Token, tstamp from icicitemptoken ORDER BY ID DESC LIMIT 1;')\n",
    "        for row in cursor:\n",
    "            return row\n",
    "        "
   ]
  },
  {
   "cell_type": "code",
   "execution_count": null,
   "id": "0b347b62",
   "metadata": {},
   "outputs": [],
   "source": [
    "api_key = \"7N342890R6384pOG66940#Y4@72BU42y\"\n",
    "apisecret = \"l~1W24M2705L45653KVj8013#7%03*F7\"\n",
    "db = DBBasic()\n",
    "breeze = BreezeConnect(api_key=api_key)"
   ]
  },
  {
   "cell_type": "code",
   "execution_count": null,
   "id": "355f1294",
   "metadata": {},
   "outputs": [],
   "source": [
    "def InitiateICICI():\n",
    "    tempToken = db.GetTempToken()\n",
    "    if tempToken is None:\n",
    "        print('tempToken is None:')\n",
    "        print('Login to API and rerun the program')\n",
    "        return False\n",
    "    ttoken = tempToken[0]\n",
    "    global session\n",
    "    session = ttoken\n",
    "    try:\n",
    "        breeze.generate_session(api_secret=apisecret, session_token=ttoken)\n",
    "        return True\n",
    "    except Exception as e:\n",
    "        print(e)\n",
    "        return False"
   ]
  },
  {
   "cell_type": "code",
   "execution_count": null,
   "id": "9a010441",
   "metadata": {},
   "outputs": [],
   "source": [
    "InitiateICICI()"
   ]
  },
  {
   "cell_type": "code",
   "execution_count": null,
   "id": "7f25b949",
   "metadata": {},
   "outputs": [],
   "source": [
    "def GetLTP(stock_code):    \n",
    "    data = breeze.get_quotes(stock_code=stock_code,\n",
    "                        exchange_code=\"NSE\",\n",
    "                        product_type=\"cash\")\n",
    "    put_data = pd.DataFrame(data[\"Success\"])\n",
    "    if put_data.empty:\n",
    "        print('Data not found:')\n",
    "        df = pd.DataFrame()\n",
    "        return df\n",
    "    else:\n",
    "        df = put_data[['ltp']]\n",
    "    return df['ltp'].iloc[0]"
   ]
  },
  {
   "cell_type": "code",
   "execution_count": null,
   "id": "7aeb7bce",
   "metadata": {},
   "outputs": [],
   "source": [
    "GetLTP('TCS')"
   ]
  },
  {
   "cell_type": "code",
   "execution_count": null,
   "id": "bf1b1868",
   "metadata": {},
   "outputs": [],
   "source": [
    "conTick = sqlConnector.connect(host=\"localhost\", user=\"root\", passwd=\"Airforce*123\", database=\"algo\", port=\"3306\")\n",
    "def getMonitorStocks():\n",
    "    query = \"SELECT CONCAT(shortName) as instrument_token, price, targetprice FROM kimalgo_test.MonitorStocks where enabled = 1\"\n",
    "    df = pd.read_sql(query, con=conTick)\n",
    "    return df\n"
   ]
  },
  {
   "cell_type": "code",
   "execution_count": null,
   "id": "234ef1db",
   "metadata": {},
   "outputs": [],
   "source": [
    "from pygame import mixer\n",
    "def monitorStock():\n",
    "    print('Monitoring Price!!!!!!')\n",
    "    print('\\a')\n",
    "    dfStocks = getMonitorStocks()\n",
    "    listStocks = dfStocks['instrument_token'].tolist()\n",
    "    for stock in listStocks:\n",
    "        cprice = GetLTP(stock)\n",
    "        rslt_df = dfStocks.loc[(dfStocks['instrument_token'] == stock)]\n",
    "        reqPrice = rslt_df.iloc[0]['price'] \n",
    "        targetPrice = rslt_df.iloc[0]['targetprice']\n",
    "        if cprice <= reqPrice or cprice >= targetPrice:\n",
    "            print('Price Alert: ' + stock + ' price: ' + str(cprice))\n",
    "            mixer.init() \n",
    "            sound=mixer.Sound(\"alarm.wav\")\n",
    "            sound.play()"
   ]
  },
  {
   "cell_type": "code",
   "execution_count": null,
   "id": "d9ef290b",
   "metadata": {},
   "outputs": [],
   "source": [
    "while True:\n",
    "    monitorStock()\n",
    "    time.sleep(60)"
   ]
  },
  {
   "cell_type": "code",
   "execution_count": null,
   "id": "248dc478",
   "metadata": {},
   "outputs": [],
   "source": [
    "scrip = pd.read_csv(\"NSEScripMaster.txt\")\n",
    "scrip = scrip[[' \"ShortName\"',' \"CompanyName\"', ' \"ExchangeCode\"']]\n",
    "columnsname1 = [' \"ShortName\"',' \"CompanyName\"', ' \"ExchangeCode\"']\n",
    "columnsname2 = ['ShortName','CompanyName', 'ExchangeCode']\n",
    "rename_columns = dict(zip(columnsname1,columnsname2))\n",
    "scrip.rename(columns=rename_columns, inplace=True)\n",
    "scrip = scrip[scrip.ExchangeCode == 'HDFCBANK']\n",
    "scrip.head()"
   ]
  },
  {
   "cell_type": "code",
   "execution_count": null,
   "id": "860b2c07",
   "metadata": {},
   "outputs": [],
   "source": []
  }
 ],
 "metadata": {
  "kernelspec": {
   "display_name": "Python 3 (ipykernel)",
   "language": "python",
   "name": "python3"
  },
  "language_info": {
   "codemirror_mode": {
    "name": "ipython",
    "version": 3
   },
   "file_extension": ".py",
   "mimetype": "text/x-python",
   "name": "python",
   "nbconvert_exporter": "python",
   "pygments_lexer": "ipython3",
   "version": "3.9.12"
  }
 },
 "nbformat": 4,
 "nbformat_minor": 5
}
