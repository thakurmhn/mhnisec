{
 "cells": [
  {
   "cell_type": "markdown",
   "id": "40910771",
   "metadata": {},
   "source": [
    "# Download Historical OHLC Data"
   ]
  },
  {
   "cell_type": "code",
   "execution_count": null,
   "id": "1361603d",
   "metadata": {},
   "outputs": [],
   "source": [
    "import pandas as pd\n",
    "from breeze_connect import BreezeConnect\n",
    "import mysql.connector as sqlConnector\n",
    "import datetime\n",
    "from datetime import date\n",
    "import time\n",
    "from selenium import webdriver\n",
    "from pyotp import TOTP\n",
    "import urllib\n",
    "import warnings\n",
    "warnings.filterwarnings('ignore')\n",
    "data_con = sqlConnector.connect(host=\"localhost\", user=\"root\", passwd=\"pass\", database=\"algo\", port=\"3306\")"
   ]
  },
  {
   "cell_type": "markdown",
   "id": "84835ac4",
   "metadata": {},
   "source": [
    "Login"
   ]
  },
  {
   "cell_type": "code",
   "execution_count": null,
   "id": "9fca8797",
   "metadata": {},
   "outputs": [],
   "source": [
    "file = open(\"security.txt\", \"r\")\n",
    "keys = file.read().split()  # Get a List of keys\n",
    "api_key = keys[0]\n",
    "key_secret = keys[1]\n",
    "userID = keys[2]\n",
    "pwd = keys[3]\n",
    "totp_key = keys[4]\n",
    "breeze = BreezeConnect(api_key=api_key)"
   ]
  },
  {
   "cell_type": "code",
   "execution_count": null,
   "id": "0d99f468",
   "metadata": {},
   "outputs": [],
   "source": [
    "browser = webdriver.Chrome()\n",
    "browser.get(\"https://api.icicidirect.com/apiuser/login?api_key=\"+urllib.parse.quote_plus(api_key))\n",
    "browser.implicitly_wait(5)\n",
    "username = browser.find_element(\"xpath\", '/html/body/form/div[2]/div/div/div[1]/div[2]/div/div[1]/input')\n",
    "password = browser.find_element(\"xpath\", '/html/body/form/div[2]/div/div/div[1]/div[2]/div/div[3]/div/input') \n",
    "username.send_keys(userID)\n",
    "password.send_keys(pwd)\n",
    "#Checkbox\n",
    "browser.find_element(\"xpath\", '/html/body/form/div[2]/div/div/div[1]/div[2]/div/div[4]/div/input').click()\n",
    "# Click Login Button\n",
    "browser.find_element(\"xpath\", '/html/body/form/div[2]/div/div/div[1]/div[2]/div/div[5]/input[1]').click()\n",
    "time.sleep(2)\n",
    "pin = browser.find_element(\"xpath\", '/html/body/form/div[2]/div/div/div[2]/div/div[2]/div[2]/div[3]/div/div[1]/input')\n",
    "totp = TOTP(totp_key)\n",
    "token = totp.now()\n",
    "pin.send_keys(token)\n",
    "browser.find_element(\"xpath\", '/html/body/form/div[2]/div/div/div[2]/div/div[2]/div[2]/div[4]/input[1]').click()\n",
    "time.sleep(3)\n",
    "temp_token=browser.current_url.split('apisession=')[1][:8]\n",
    "print('temp_token', temp_token)"
   ]
  },
  {
   "cell_type": "code",
   "execution_count": null,
   "id": "f9423ca5",
   "metadata": {},
   "outputs": [],
   "source": [
    "breeze.generate_session(api_secret=key_secret,session_token=temp_token)"
   ]
  },
  {
   "cell_type": "markdown",
   "id": "f9e1f2c8",
   "metadata": {},
   "source": [
    "intervals: \"1second\",\"1minute\", \"5minute\", \"30minute\" or as \"1day\".<br>\n",
    "\n",
    "Maximum candle intervals in one single request is 1000"
   ]
  },
  {
   "cell_type": "markdown",
   "id": "b480a875",
   "metadata": {},
   "source": [
    "### Download data refined function"
   ]
  },
  {
   "cell_type": "code",
   "execution_count": null,
   "id": "a8a59dba",
   "metadata": {},
   "outputs": [],
   "source": [
    "adate = '2023-03-17'\n",
    "symbol = 'TCS'\n",
    "data = breeze.get_historical_data(interval=\"5minute\", from_date= adate + \"T09:15:00.000Z\",\n",
    "                            to_date= adate + \"T15:30:00.000Z\", stock_code=symbol, exchange_code=\"NSE\", product_type=\"cash\")\n",
    "put_data = pd.DataFrame(data[\"Success\"])\n",
    "if put_data.empty:\n",
    "    print('Data not found:', adate)\n",
    "    df = pd.DataFrame()\n",
    "else:\n",
    "    df = put_data[['datetime', 'open', 'high', 'low', 'close']]\n"
   ]
  },
  {
   "cell_type": "code",
   "execution_count": null,
   "id": "e9ad4d33",
   "metadata": {},
   "outputs": [],
   "source": [
    "df"
   ]
  },
  {
   "cell_type": "code",
   "execution_count": null,
   "id": "b1847da7",
   "metadata": {},
   "outputs": [],
   "source": [
    "def download_NFO(symbol, sdate, edate, expiry_date):\n",
    "    #data = breeze.get_historical_data_v2(interval=\"1minute\",\n",
    "    data = breeze.get_historical_data_v2(interval=\"1minute\",\n",
    "                                from_date= sdate,\n",
    "                                to_date= edate,\n",
    "                                stock_code= symbol,\n",
    "                                exchange_code=\"NFO\",\n",
    "                                product_type=\"futures\",\n",
    "                                expiry_date=expiry_date)\n",
    "    #print(data)\n",
    "    put_data = pd.DataFrame(data[\"Success\"])\n",
    "    if put_data.empty:\n",
    "        print('Data not found:', adate)\n",
    "        df = pd.DataFrame()\n",
    "    else:\n",
    "        df = put_data[['datetime', 'open', 'high', 'low', 'close']]\n",
    "        df.columns= ['DateTime', 'Open', 'High', 'Low', 'Close']\n",
    "        df['DateTime'] = pd.to_datetime(df['DateTime'])\n",
    "        df.set_index('DateTime', inplace=True)\n",
    "        df['volume'] = 0\n",
    "        return df"
   ]
  },
  {
   "cell_type": "code",
   "execution_count": null,
   "id": "d85a830b",
   "metadata": {},
   "outputs": [],
   "source": [
    "edate = datetime.datetime(2023, 3, 17, 11, 0, 0)\n",
    "sdate = datetime.datetime(2023, 3, 17, 9, 15, 0)\n",
    "edate_iso = edate.isoformat()[:19] + '.000Z'\n",
    "sdate_iso = sdate.isoformat()[:19] + '.000Z'\n",
    "expiry_date = datetime.date(2023, 3, 29)\n",
    "xdate_iso = expiry_date.isoformat()[:10] + 'T05:30:00.000Z'\n",
    "sdate_iso, edate_iso, xdate_iso"
   ]
  },
  {
   "cell_type": "code",
   "execution_count": null,
   "id": "443c6822",
   "metadata": {},
   "outputs": [],
   "source": [
    "df_fut = download_NFO(\"TCS\", sdate_iso, edate_iso, xdate_iso)\n",
    "df_fut.head()"
   ]
  },
  {
   "cell_type": "code",
   "execution_count": null,
   "id": "d11aeaad",
   "metadata": {},
   "outputs": [],
   "source": [
    "df_fut.tail()"
   ]
  },
  {
   "cell_type": "code",
   "execution_count": null,
   "id": "a7e11c2e",
   "metadata": {},
   "outputs": [],
   "source": [
    "df_fut.to_csv('fut.csv')"
   ]
  },
  {
   "cell_type": "code",
   "execution_count": null,
   "id": "32e84290",
   "metadata": {},
   "outputs": [],
   "source": [
    "def gethistoricaldata_options(interval, from_date, to_date, stock_code, right, expiry_date, strike_price):\n",
    "    data = breeze.get_historical_data(interval= interval,\n",
    "                                from_date= from_date,\n",
    "                                to_date= to_date,\n",
    "                                stock_code= stock_code,\n",
    "                                exchange_code=\"NFO\",\n",
    "                                product_type=\"options\",\n",
    "                                expiry_date=expiry_date,\n",
    "                                right=right,\n",
    "                                strike_price=strike_price)\n",
    "    put_data = pd.DataFrame(data[\"Success\"])\n",
    "    if put_data.empty:\n",
    "        print('Data not found:', to_date)\n",
    "        df = pd.DataFrame()\n",
    "        return df\n",
    "    else:\n",
    "        df = put_data[['datetime', 'open', 'high', 'low', 'close']]\n",
    "    return df \n"
   ]
  },
  {
   "cell_type": "code",
   "execution_count": null,
   "id": "b838539a",
   "metadata": {},
   "outputs": [],
   "source": [
    "tdate = datetime.datetime.now()\n",
    "fdate = tdate - datetime.timedelta(days=2)\n",
    "expiry_date = datetime.date(2023, 3, 29)\n",
    "tdate_iso = tdate.isoformat()[:10] + 'T05:30:00.000Z'\n",
    "fdate_iso = fdate.isoformat()[:10] + 'T05:30:00.000Z'\n",
    "expiry_date_iso = expiry_date.isoformat()[:10] + 'T05:30:00.000Z'\n",
    "icici_code = breeze.get_names(exchange_code = 'NSE',stock_code = 'INFY').get('isec_stock_code')\n",
    "gethistoricaldata_options('5minute',fdate_iso, tdate_iso, icici_code, \"call\", expiry_date_iso, 1500)"
   ]
  },
  {
   "cell_type": "code",
   "execution_count": null,
   "id": "5c331326",
   "metadata": {},
   "outputs": [],
   "source": []
  }
 ],
 "metadata": {
  "kernelspec": {
   "display_name": "Python 3 (ipykernel)",
   "language": "python",
   "name": "python3"
  },
  "language_info": {
   "codemirror_mode": {
    "name": "ipython",
    "version": 3
   },
   "file_extension": ".py",
   "mimetype": "text/x-python",
   "name": "python",
   "nbconvert_exporter": "python",
   "pygments_lexer": "ipython3",
   "version": "3.9.13"
  }
 },
 "nbformat": 4,
 "nbformat_minor": 5
}
