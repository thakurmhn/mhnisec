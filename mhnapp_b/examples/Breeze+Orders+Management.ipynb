{
 "cells": [
  {
   "cell_type": "markdown",
   "id": "e312b3d2",
   "metadata": {},
   "source": [
    "# Order Management"
   ]
  },
  {
   "cell_type": "code",
   "execution_count": null,
   "id": "ab6e29e0",
   "metadata": {},
   "outputs": [],
   "source": [
    "import pandas as pd\n",
    "from breeze_connect import BreezeConnect\n",
    "from datetime import date\n",
    "from selenium import webdriver\n",
    "from pyotp import TOTP\n",
    "import urllib\n",
    "import time\n",
    "import warnings\n",
    "warnings.filterwarnings('ignore')"
   ]
  },
  {
   "cell_type": "code",
   "execution_count": null,
   "id": "2ed8c9a1",
   "metadata": {},
   "outputs": [],
   "source": [
    "file = open(\"security.txt\", \"r\")\n",
    "keys = file.read().split()  # Get a List of keys\n",
    "api_key = keys[0]\n",
    "key_secret = keys[1]\n",
    "userID = keys[2]\n",
    "pwd = keys[3]\n",
    "totp_key = keys[4]\n",
    "breeze = BreezeConnect(api_key=api_key)"
   ]
  },
  {
   "cell_type": "code",
   "execution_count": null,
   "id": "922f5965",
   "metadata": {},
   "outputs": [],
   "source": [
    "browser = webdriver.Chrome()\n",
    "browser.get(\"https://api.icicidirect.com/apiuser/login?api_key=\"+urllib.parse.quote_plus(api_key))\n",
    "browser.implicitly_wait(5)\n",
    "username = browser.find_element(\"xpath\", '/html/body/form/div[2]/div/div/div[1]/div[2]/div/div[1]/input')\n",
    "password = browser.find_element(\"xpath\", '/html/body/form/div[2]/div/div/div[1]/div[2]/div/div[3]/div/input') \n",
    "username.send_keys(userID)\n",
    "password.send_keys(pwd)\n",
    "#Checkbox\n",
    "browser.find_element(\"xpath\", '/html/body/form/div[2]/div/div/div[1]/div[2]/div/div[4]/div/input').click()\n",
    "# Click Login Button\n",
    "browser.find_element(\"xpath\", '/html/body/form/div[2]/div/div/div[1]/div[2]/div/div[5]/input[1]').click()\n",
    "time.sleep(2)\n",
    "pin = browser.find_element(\"xpath\", '/html/body/form/div[2]/div/div/div[2]/div/div[2]/div[2]/div[3]/div/div[1]/input')\n",
    "totp = TOTP(totp_key)\n",
    "token = totp.now()\n",
    "pin.send_keys(token)\n",
    "browser.find_element(\"xpath\", '/html/body/form/div[2]/div/div/div[2]/div/div[2]/div[2]/div[4]/input[1]').click()\n",
    "time.sleep(3)\n",
    "temp_token=browser.current_url.split('apisession=')[1][:8]\n",
    "print('temp_token', temp_token)"
   ]
  },
  {
   "cell_type": "code",
   "execution_count": null,
   "id": "4789bd58",
   "metadata": {},
   "outputs": [],
   "source": [
    "breeze.generate_session(api_secret=key_secret,session_token=temp_token)"
   ]
  },
  {
   "cell_type": "markdown",
   "id": "bcf3f6fe",
   "metadata": {},
   "source": [
    "### Get Customer Details"
   ]
  },
  {
   "cell_type": "code",
   "execution_count": null,
   "id": "0dede43c",
   "metadata": {},
   "outputs": [],
   "source": [
    "temp_token  = 6290565\n",
    "breeze.get_customer_details(api_session=temp_token) "
   ]
  },
  {
   "cell_type": "markdown",
   "id": "a0ebaed8",
   "metadata": {},
   "source": [
    "### Get demat holdings"
   ]
  },
  {
   "cell_type": "code",
   "execution_count": null,
   "id": "84248f8f",
   "metadata": {},
   "outputs": [],
   "source": [
    "breeze.get_demat_holdings()"
   ]
  },
  {
   "cell_type": "markdown",
   "id": "11856eec",
   "metadata": {},
   "source": [
    "### Get Funds"
   ]
  },
  {
   "cell_type": "code",
   "execution_count": null,
   "id": "fe955067",
   "metadata": {},
   "outputs": [],
   "source": [
    "breeze.get_funds()"
   ]
  },
  {
   "cell_type": "markdown",
   "id": "74273e2a",
   "metadata": {},
   "source": [
    "### Set Funds"
   ]
  },
  {
   "cell_type": "code",
   "execution_count": null,
   "id": "294b0489",
   "metadata": {},
   "outputs": [],
   "source": [
    "breeze.set_funds(transaction_type=\"credit\", \n",
    "                    amount=\"200\",\n",
    "                    segment=\"FNO\")"
   ]
  },
  {
   "cell_type": "markdown",
   "id": "8b689785",
   "metadata": {},
   "source": [
    "### Get Margin of your account"
   ]
  },
  {
   "cell_type": "code",
   "execution_count": null,
   "id": "4b7f46ba",
   "metadata": {},
   "outputs": [],
   "source": [
    "breeze.get_margin(exchange_code=\"NFO\")"
   ]
  },
  {
   "cell_type": "markdown",
   "id": "63a5dfe1",
   "metadata": {},
   "source": [
    "### Placing an Options Order"
   ]
  },
  {
   "cell_type": "code",
   "execution_count": null,
   "id": "521d9163",
   "metadata": {},
   "outputs": [],
   "source": [
    "breeze.place_order(stock_code=\"NIFTY\",\n",
    "                    exchange_code=\"NFO\",\n",
    "                    product=\"options\",\n",
    "                    action=\"buy\",\n",
    "                    order_type=\"market\",\n",
    "                    stoploss=\"\",\n",
    "                    quantity=\"50\",\n",
    "                    price=\"\",\n",
    "                    validity=\"day\",\n",
    "                    validity_date=\"2022-09-29T06:00:00.000Z\",\n",
    "                    disclosed_quantity=\"0\",\n",
    "                    expiry_date=\"2022-09-29T06:00:00.000Z\",\n",
    "                    right=\"call\",\n",
    "                    strike_price=\"17500\")"
   ]
  },
  {
   "cell_type": "markdown",
   "id": "bce06cef",
   "metadata": {},
   "source": [
    "### Placing a Futures Order"
   ]
  },
  {
   "cell_type": "code",
   "execution_count": null,
   "id": "ea10293e",
   "metadata": {},
   "outputs": [],
   "source": [
    "breeze.place_order(stock_code=\"NIFTY\",\n",
    "                    exchange_code=\"NFO\",\n",
    "                    product=\"futures\",\n",
    "                    action=\"buy\",\n",
    "                    order_type=\"market\",\n",
    "                    stoploss=\"0\",\n",
    "                    quantity=\"50\",\n",
    "                    price=\"17200\",\n",
    "                    validity=\"day\",\n",
    "                    validity_date=\"2022-08-22T06:00:00.000Z\",\n",
    "                    disclosed_quantity=\"0\",\n",
    "                    expiry_date=\"2022-09-29T06:00:00.000Z\",\n",
    "                    right=\"others\",\n",
    "                    strike_price=\"0\",\n",
    "                    user_remark=\"Test\")"
   ]
  },
  {
   "cell_type": "markdown",
   "id": "330ad884",
   "metadata": {},
   "source": [
    "### Placing a cash Order"
   ]
  },
  {
   "cell_type": "code",
   "execution_count": null,
   "id": "518278f7",
   "metadata": {},
   "outputs": [],
   "source": [
    "breeze.place_order(stock_code=\"ITC\",\n",
    "                    exchange_code=\"NSE\",\n",
    "                    product=\"cash\",\n",
    "                    action=\"buy\",\n",
    "                    order_type=\"market\",\n",
    "                    stoploss=\"\",\n",
    "                    quantity=\"1\",\n",
    "                    price=\"305\",\n",
    "                    validity=\"day\"\n",
    "                )"
   ]
  },
  {
   "cell_type": "markdown",
   "id": "dc014ac2",
   "metadata": {},
   "source": [
    "### Get Order Details\n",
    "#### Get an order details by exchange-code and order-id from your account."
   ]
  },
  {
   "cell_type": "code",
   "execution_count": null,
   "id": "61ecdba5",
   "metadata": {},
   "outputs": [],
   "source": [
    "breeze.get_order_detail(exchange_code=\"NFO\",\n",
    "                        order_id=\"202209071300042393\")\n"
   ]
  },
  {
   "cell_type": "markdown",
   "id": "3cbadded",
   "metadata": {},
   "source": [
    "### Get Order List"
   ]
  },
  {
   "cell_type": "code",
   "execution_count": null,
   "id": "bac38b18",
   "metadata": {},
   "outputs": [],
   "source": [
    "breeze.get_order_list(exchange_code=\"NSE\",\n",
    "                        from_date=\"2022-09-01T10:00:00.000Z\",\n",
    "                        to_date=\"2022-09-07T10:00:00.000Z\")"
   ]
  },
  {
   "cell_type": "markdown",
   "id": "9ca6317c",
   "metadata": {},
   "source": [
    "### Cancel Order"
   ]
  },
  {
   "cell_type": "code",
   "execution_count": null,
   "id": "348966e0",
   "metadata": {},
   "outputs": [],
   "source": [
    "breeze.cancel_order(exchange_code=\"NFO\",\n",
    "                    order_id=\"202209071300042393\")"
   ]
  },
  {
   "cell_type": "markdown",
   "id": "431e842e",
   "metadata": {},
   "source": [
    "### Modify Order"
   ]
  },
  {
   "cell_type": "code",
   "execution_count": null,
   "id": "54b0c228",
   "metadata": {},
   "outputs": [],
   "source": [
    "breeze.modify_order(order_id=\"202208191100000001\",\n",
    "                    exchange_code=\"NFO\",\n",
    "                    order_type=\"limit\",\n",
    "                    stoploss=\"0\",\n",
    "                    quantity=\"250\",\n",
    "                    price=\"290100\",\n",
    "                    validity=\"day\",\n",
    "                    disclosed_quantity=\"0\",\n",
    "                    validity_date=\"2022-08-22T06:00:00.000Z\")"
   ]
  },
  {
   "cell_type": "markdown",
   "id": "d95c1cbb",
   "metadata": {},
   "source": [
    "### Get Portfoliio holdings"
   ]
  },
  {
   "cell_type": "code",
   "execution_count": null,
   "id": "52af5e08",
   "metadata": {},
   "outputs": [],
   "source": [
    "breeze.get_portfolio_holdings(exchange_code=\"NSE\",\n",
    "                                from_date=\"2022-09-01T06:00:00.000Z\",\n",
    "                                to_date=\"2022-09-07T06:00:00.000Z\",\n",
    "                                stock_code=\"\",\n",
    "                                portfolio_type=\"\")"
   ]
  },
  {
   "cell_type": "markdown",
   "id": "066408a7",
   "metadata": {},
   "source": [
    "### Get portfolio Positions"
   ]
  },
  {
   "cell_type": "code",
   "execution_count": null,
   "id": "84642ca5",
   "metadata": {},
   "outputs": [],
   "source": [
    "breeze.get_portfolio_positions()"
   ]
  },
  {
   "cell_type": "markdown",
   "id": "87a5c170",
   "metadata": {},
   "source": [
    "### Square Off equity Margin Order"
   ]
  },
  {
   "cell_type": "code",
   "execution_count": null,
   "id": "c10c51c5",
   "metadata": {},
   "outputs": [],
   "source": [
    "breeze.square_off(exchange_code=\"NSE\",\n",
    "                    product=\"margin\",\n",
    "                    stock_code=\"NIFTY\",\n",
    "                    quantity=\"10\",\n",
    "                    price=\"0\",\n",
    "                    action=\"sell\",\n",
    "                    order_type=\"market\",\n",
    "                    validity=\"day\",\n",
    "                    stoploss=\"0\",\n",
    "                    disclosed_quantity=\"0\",\n",
    "                    protection_percentage=\"\",\n",
    "                    settlement_id=\"\",\n",
    "                    cover_quantity=\"\",\n",
    "                    open_quantity=\"\",\n",
    "                    margin_amount=\"\")"
   ]
  },
  {
   "cell_type": "markdown",
   "id": "1412ed89",
   "metadata": {},
   "source": [
    "### Square off NFO Futures Order"
   ]
  },
  {
   "cell_type": "code",
   "execution_count": null,
   "id": "ae64316e",
   "metadata": {},
   "outputs": [],
   "source": [
    "breeze.square_off(exchange_code=\"NFO\",\n",
    "                    product=\"futures\",\n",
    "                    stock_code=\"NIFTY\",\n",
    "                    expiry_date=\"2022-09-29T06:00:00.000Z\",\n",
    "                    action=\"sell\",\n",
    "                    order_type=\"market\",\n",
    "                    validity=\"day\",\n",
    "                    stoploss=\"0\",\n",
    "                    quantity=\"50\",\n",
    "                    price=\"0\",\n",
    "                    validity_date=\"2022-09-29T06:00:00.000Z\",\n",
    "                    trade_password=\"\",\n",
    "                    disclosed_quantity=\"0\")"
   ]
  },
  {
   "cell_type": "markdown",
   "id": "d2eb7d19",
   "metadata": {},
   "source": [
    "### Square off an FNO Options Order"
   ]
  },
  {
   "cell_type": "code",
   "execution_count": null,
   "id": "301edbc1",
   "metadata": {},
   "outputs": [],
   "source": [
    "breeze.square_off(exchange_code=\"NFO\",\n",
    "                    product=\"options\",\n",
    "                    stock_code=\"NIFTY\",\n",
    "                    expiry_date=\"2022-09-29T06:00:00.000Z\",\n",
    "                    right=\"Call\",\n",
    "                    strike_price=\"17500\",\n",
    "                    action=\"sell\",\n",
    "                    order_type=\"market\",\n",
    "                    validity=\"day\",\n",
    "                    stoploss=\"0\",\n",
    "                    quantity=\"50\",\n",
    "                    price=\"0\",\n",
    "                    validity_date=\"2022-09-07T06:00:00.000Z\",\n",
    "                    trade_password=\"\",\n",
    "                    disclosed_quantity=\"0\")"
   ]
  },
  {
   "cell_type": "markdown",
   "id": "c8e56d0b",
   "metadata": {},
   "source": [
    "### Get trade list of your account"
   ]
  },
  {
   "cell_type": "code",
   "execution_count": null,
   "id": "e4a8e519",
   "metadata": {},
   "outputs": [],
   "source": [
    "breeze.get_trade_list(from_date=\"2022-09-06T06:00:00.000Z\",\n",
    "                        to_date=\"2022-09-07T06:00:00.000Z\",\n",
    "                        exchange_code=\"NFO\",\n",
    "                        product_type=\"\",\n",
    "                        action=\"\",\n",
    "                        stock_code=\"\")"
   ]
  },
  {
   "cell_type": "markdown",
   "id": "c1b7dffd",
   "metadata": {},
   "source": [
    "### Get trade details for Order ID"
   ]
  },
  {
   "cell_type": "code",
   "execution_count": null,
   "id": "0f07fea8",
   "metadata": {},
   "outputs": [],
   "source": [
    "breeze.get_trade_detail(exchange_code=\"NFO\",\n",
    "                        order_id=\"202209071300042393\")"
   ]
  },
  {
   "cell_type": "code",
   "execution_count": null,
   "id": "75aa3155",
   "metadata": {},
   "outputs": [],
   "source": []
  }
 ],
 "metadata": {
  "kernelspec": {
   "display_name": "Python 3 (ipykernel)",
   "language": "python",
   "name": "python3"
  },
  "language_info": {
   "codemirror_mode": {
    "name": "ipython",
    "version": 3
   },
   "file_extension": ".py",
   "mimetype": "text/x-python",
   "name": "python",
   "nbconvert_exporter": "python",
   "pygments_lexer": "ipython3",
   "version": "3.9.13"
  }
 },
 "nbformat": 4,
 "nbformat_minor": 5
}
