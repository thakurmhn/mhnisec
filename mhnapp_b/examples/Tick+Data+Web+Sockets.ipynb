{
 "cells": [
  {
   "cell_type": "markdown",
   "id": "286fb6a5",
   "metadata": {},
   "source": [
    "# Download Tick Data using Web Sockets"
   ]
  },
  {
   "cell_type": "code",
   "execution_count": null,
   "id": "7b146019",
   "metadata": {},
   "outputs": [],
   "source": [
    "import pandas as pd\n",
    "from breeze_connect import BreezeConnect\n",
    "import pandas as pd\n",
    "from breeze_connect import BreezeConnect\n",
    "from datetime import date\n",
    "from selenium import webdriver\n",
    "from pyotp import TOTP\n",
    "import urllib\n",
    "import time\n",
    "import warnings\n",
    "warnings.filterwarnings('ignore')"
   ]
  },
  {
   "cell_type": "code",
   "execution_count": null,
   "id": "3ec1ca02",
   "metadata": {},
   "outputs": [],
   "source": [
    "file = open(\"security.txt\", \"r\")\n",
    "keys = file.read().split() \n",
    "api_key = keys[0]\n",
    "key_secret = keys[1]\n",
    "userID = keys[2]\n",
    "pwd = keys[3]\n",
    "totp_key = keys[4]\n",
    "breeze = BreezeConnect(api_key=api_key)"
   ]
  },
  {
   "cell_type": "code",
   "execution_count": null,
   "id": "b95c60de",
   "metadata": {},
   "outputs": [],
   "source": [
    "browser = webdriver.Chrome()\n",
    "browser.get(\"https://api.icicidirect.com/apiuser/login?api_key=\"+urllib.parse.quote_plus(api_key))\n",
    "browser.implicitly_wait(5)\n",
    "username = browser.find_element(\"xpath\", '/html/body/form/div[2]/div/div/div[1]/div[2]/div/div[1]/input')\n",
    "password = browser.find_element(\"xpath\", '/html/body/form/div[2]/div/div/div[1]/div[2]/div/div[3]/div/input') \n",
    "username.send_keys(userID)\n",
    "password.send_keys(pwd)\n",
    "#Checkbox\n",
    "browser.find_element(\"xpath\", '/html/body/form/div[2]/div/div/div[1]/div[2]/div/div[4]/div/input').click()\n",
    "# Click Login Button\n",
    "browser.find_element(\"xpath\", '/html/body/form/div[2]/div/div/div[1]/div[2]/div/div[5]/input[1]').click()\n",
    "time.sleep(2)\n",
    "pin = browser.find_element(\"xpath\", '/html/body/form/div[2]/div/div/div[2]/div/div[2]/div[2]/div[3]/div/div[1]/input')\n",
    "totp = TOTP(totp_key)\n",
    "token = totp.now()\n",
    "pin.send_keys(token)\n",
    "browser.find_element(\"xpath\", '/html/body/form/div[2]/div/div/div[2]/div/div[2]/div[2]/div[4]/input[1]').click()\n",
    "time.sleep(3)\n",
    "temp_token=browser.current_url.split('apisession=')[1][:8]\n",
    "print('Ready', temp_token)\n",
    "breeze.generate_session(api_secret=key_secret,session_token=temp_token)"
   ]
  },
  {
   "cell_type": "code",
   "execution_count": 40,
   "id": "99fc41e6",
   "metadata": {},
   "outputs": [
    {
     "ename": "ConnectionError",
     "evalue": "Already connected",
     "output_type": "error",
     "traceback": [
      "\u001b[0;31m---------------------------------------------------------------------------\u001b[0m",
      "\u001b[0;31mConnectionError\u001b[0m                           Traceback (most recent call last)",
      "\u001b[0;32m/var/folders/sv/lqk08_090jj5sffd57rb2hxm0000gp/T/ipykernel_51494/831762272.py\u001b[0m in \u001b[0;36m<module>\u001b[0;34m\u001b[0m\n\u001b[0;32m----> 1\u001b[0;31m \u001b[0mbreeze\u001b[0m\u001b[0;34m.\u001b[0m\u001b[0mws_connect\u001b[0m\u001b[0;34m(\u001b[0m\u001b[0;34m)\u001b[0m\u001b[0;34m\u001b[0m\u001b[0;34m\u001b[0m\u001b[0m\n\u001b[0m\u001b[1;32m      2\u001b[0m \u001b[0;32mglobal\u001b[0m \u001b[0mdata\u001b[0m\u001b[0;34m\u001b[0m\u001b[0;34m\u001b[0m\u001b[0m\n",
      "\u001b[0;32m~/opt/anaconda3/lib/python3.9/site-packages/breeze_connect/breeze_connect.py\u001b[0m in \u001b[0;36mws_connect\u001b[0;34m(self)\u001b[0m\n\u001b[1;32m    140\u001b[0m \u001b[0;34m\u001b[0m\u001b[0m\n\u001b[1;32m    141\u001b[0m     \u001b[0;32mdef\u001b[0m \u001b[0mws_connect\u001b[0m\u001b[0;34m(\u001b[0m\u001b[0mself\u001b[0m\u001b[0;34m)\u001b[0m\u001b[0;34m:\u001b[0m\u001b[0;34m\u001b[0m\u001b[0;34m\u001b[0m\u001b[0m\n\u001b[0;32m--> 142\u001b[0;31m         \u001b[0mself\u001b[0m\u001b[0;34m.\u001b[0m\u001b[0m_ws_connect\u001b[0m\u001b[0;34m(\u001b[0m\u001b[0mself\u001b[0m\u001b[0;34m.\u001b[0m\u001b[0msio_rate_refresh_handler\u001b[0m\u001b[0;34m,\u001b[0m\u001b[0;32mFalse\u001b[0m\u001b[0;34m)\u001b[0m\u001b[0;34m\u001b[0m\u001b[0;34m\u001b[0m\u001b[0m\n\u001b[0m\u001b[1;32m    143\u001b[0m \u001b[0;34m\u001b[0m\u001b[0m\n\u001b[1;32m    144\u001b[0m     \u001b[0;32mdef\u001b[0m \u001b[0mget_data_from_stock_token_value\u001b[0m\u001b[0;34m(\u001b[0m\u001b[0mself\u001b[0m\u001b[0;34m,\u001b[0m \u001b[0minput_stock_token\u001b[0m\u001b[0;34m)\u001b[0m\u001b[0;34m:\u001b[0m\u001b[0;34m\u001b[0m\u001b[0;34m\u001b[0m\u001b[0m\n",
      "\u001b[0;32m~/opt/anaconda3/lib/python3.9/site-packages/breeze_connect/breeze_connect.py\u001b[0m in \u001b[0;36m_ws_connect\u001b[0;34m(self, handler, order_flag, ohlcv_flag, strategy_flag)\u001b[0m\n\u001b[1;32m    109\u001b[0m             \u001b[0;32mif\u001b[0m \u001b[0;32mnot\u001b[0m \u001b[0mself\u001b[0m\u001b[0;34m.\u001b[0m\u001b[0msio_rate_refresh_handler\u001b[0m\u001b[0;34m:\u001b[0m\u001b[0;34m\u001b[0m\u001b[0;34m\u001b[0m\u001b[0m\n\u001b[1;32m    110\u001b[0m                 \u001b[0mself\u001b[0m\u001b[0;34m.\u001b[0m\u001b[0msio_rate_refresh_handler\u001b[0m \u001b[0;34m=\u001b[0m \u001b[0mSocketEventBreeze\u001b[0m\u001b[0;34m(\u001b[0m\u001b[0;34m\"/\"\u001b[0m\u001b[0;34m,\u001b[0m \u001b[0mself\u001b[0m\u001b[0;34m)\u001b[0m\u001b[0;34m\u001b[0m\u001b[0;34m\u001b[0m\u001b[0m\n\u001b[0;32m--> 111\u001b[0;31m             \u001b[0mself\u001b[0m\u001b[0;34m.\u001b[0m\u001b[0msio_rate_refresh_handler\u001b[0m\u001b[0;34m.\u001b[0m\u001b[0mconnect\u001b[0m\u001b[0;34m(\u001b[0m\u001b[0mconfig\u001b[0m\u001b[0;34m.\u001b[0m\u001b[0mLIVE_STREAM_URL\u001b[0m\u001b[0;34m)\u001b[0m\u001b[0;34m\u001b[0m\u001b[0;34m\u001b[0m\u001b[0m\n\u001b[0m\u001b[1;32m    112\u001b[0m \u001b[0;34m\u001b[0m\u001b[0m\n\u001b[1;32m    113\u001b[0m     \u001b[0;32mdef\u001b[0m \u001b[0mws_disconnect\u001b[0m\u001b[0;34m(\u001b[0m\u001b[0mself\u001b[0m\u001b[0;34m,\u001b[0m\u001b[0mis_order\u001b[0m \u001b[0;34m=\u001b[0m \u001b[0;32mFalse\u001b[0m\u001b[0;34m)\u001b[0m\u001b[0;34m:\u001b[0m\u001b[0;34m\u001b[0m\u001b[0;34m\u001b[0m\u001b[0m\n",
      "\u001b[0;32m~/opt/anaconda3/lib/python3.9/site-packages/breeze_connect/breeze_connect.py\u001b[0m in \u001b[0;36mconnect\u001b[0;34m(self, hostname, is_ohlc_stream, strategy_flag)\u001b[0m\n\u001b[1;32m     40\u001b[0m             \u001b[0mself\u001b[0m\u001b[0;34m.\u001b[0m\u001b[0msio\u001b[0m\u001b[0;34m.\u001b[0m\u001b[0mconnect\u001b[0m\u001b[0;34m(\u001b[0m\u001b[0mhostname\u001b[0m\u001b[0;34m,\u001b[0m\u001b[0msocketio_path\u001b[0m\u001b[0;34m=\u001b[0m\u001b[0;34m'ohlcvstream'\u001b[0m \u001b[0;34m,\u001b[0m\u001b[0mheaders\u001b[0m\u001b[0;34m=\u001b[0m\u001b[0;34m{\u001b[0m\u001b[0;34m\"User-Agent\"\u001b[0m\u001b[0;34m:\u001b[0m \u001b[0;34m\"python-socketio[client]/socket\"\u001b[0m\u001b[0;34m}\u001b[0m\u001b[0;34m,\u001b[0m\u001b[0mauth\u001b[0m\u001b[0;34m=\u001b[0m\u001b[0mauth\u001b[0m\u001b[0;34m,\u001b[0m\u001b[0mtransports\u001b[0m\u001b[0;34m=\u001b[0m\u001b[0;34m\"websocket\"\u001b[0m\u001b[0;34m,\u001b[0m \u001b[0mwait_timeout\u001b[0m\u001b[0;34m=\u001b[0m\u001b[0;36m3\u001b[0m\u001b[0;34m)\u001b[0m\u001b[0;34m\u001b[0m\u001b[0;34m\u001b[0m\u001b[0m\n\u001b[1;32m     41\u001b[0m         \u001b[0;32melse\u001b[0m\u001b[0;34m:\u001b[0m\u001b[0;34m\u001b[0m\u001b[0;34m\u001b[0m\u001b[0m\n\u001b[0;32m---> 42\u001b[0;31m             \u001b[0mself\u001b[0m\u001b[0;34m.\u001b[0m\u001b[0msio\u001b[0m\u001b[0;34m.\u001b[0m\u001b[0mconnect\u001b[0m\u001b[0;34m(\u001b[0m\u001b[0mhostname\u001b[0m\u001b[0;34m,\u001b[0m \u001b[0mheaders\u001b[0m\u001b[0;34m=\u001b[0m\u001b[0;34m{\u001b[0m\u001b[0;34m\"User-Agent\"\u001b[0m\u001b[0;34m:\u001b[0m \u001b[0;34m\"python-socketio[client]/socket\"\u001b[0m\u001b[0;34m}\u001b[0m\u001b[0;34m,\u001b[0m\u001b[0mauth\u001b[0m\u001b[0;34m=\u001b[0m\u001b[0mauth\u001b[0m\u001b[0;34m,\u001b[0m\u001b[0mtransports\u001b[0m\u001b[0;34m=\u001b[0m\u001b[0;34m\"websocket\"\u001b[0m\u001b[0;34m,\u001b[0m \u001b[0mwait_timeout\u001b[0m\u001b[0;34m=\u001b[0m\u001b[0;36m3\u001b[0m\u001b[0;34m)\u001b[0m\u001b[0;34m\u001b[0m\u001b[0;34m\u001b[0m\u001b[0m\n\u001b[0m\u001b[1;32m     43\u001b[0m \u001b[0;34m\u001b[0m\u001b[0m\n\u001b[1;32m     44\u001b[0m     \u001b[0;32mdef\u001b[0m \u001b[0mon_disconnect\u001b[0m\u001b[0;34m(\u001b[0m\u001b[0mself\u001b[0m\u001b[0;34m)\u001b[0m\u001b[0;34m:\u001b[0m\u001b[0;34m\u001b[0m\u001b[0;34m\u001b[0m\u001b[0m\n",
      "\u001b[0;32m~/opt/anaconda3/lib/python3.9/site-packages/socketio/client.py\u001b[0m in \u001b[0;36mconnect\u001b[0;34m(self, url, headers, auth, transports, namespaces, socketio_path, wait, wait_timeout)\u001b[0m\n\u001b[1;32m    304\u001b[0m         \"\"\"\n\u001b[1;32m    305\u001b[0m         \u001b[0;32mif\u001b[0m \u001b[0mself\u001b[0m\u001b[0;34m.\u001b[0m\u001b[0mconnected\u001b[0m\u001b[0;34m:\u001b[0m\u001b[0;34m\u001b[0m\u001b[0;34m\u001b[0m\u001b[0m\n\u001b[0;32m--> 306\u001b[0;31m             \u001b[0;32mraise\u001b[0m \u001b[0mexceptions\u001b[0m\u001b[0;34m.\u001b[0m\u001b[0mConnectionError\u001b[0m\u001b[0;34m(\u001b[0m\u001b[0;34m'Already connected'\u001b[0m\u001b[0;34m)\u001b[0m\u001b[0;34m\u001b[0m\u001b[0;34m\u001b[0m\u001b[0m\n\u001b[0m\u001b[1;32m    307\u001b[0m \u001b[0;34m\u001b[0m\u001b[0m\n\u001b[1;32m    308\u001b[0m         \u001b[0mself\u001b[0m\u001b[0;34m.\u001b[0m\u001b[0mconnection_url\u001b[0m \u001b[0;34m=\u001b[0m \u001b[0murl\u001b[0m\u001b[0;34m\u001b[0m\u001b[0;34m\u001b[0m\u001b[0m\n",
      "\u001b[0;31mConnectionError\u001b[0m: Already connected"
     ]
    }
   ],
   "source": [
    "breeze.ws_connect()\n",
    "global data"
   ]
  },
  {
   "cell_type": "markdown",
   "id": "7cde9739",
   "metadata": {},
   "source": [
    "Either get_exchange_quotes must be True or get_market_depth must be True.\n",
    "\n",
    "Both get_exchange_quotes and get_market_depth can be True, But both must not be False."
   ]
  },
  {
   "cell_type": "code",
   "execution_count": 41,
   "id": "fa81bfa7",
   "metadata": {},
   "outputs": [
    {
     "data": {
      "text/plain": [
       "{'message': 'Stock TCS subscribed successfully'}"
      ]
     },
     "execution_count": 41,
     "metadata": {},
     "output_type": "execute_result"
    },
    {
     "name": "stdout",
     "output_type": "stream",
     "text": [
      "{'symbol': '4.1!46325', 'open': 47.85, 'last': 20.75, 'high': 48, 'low': 15.65, 'change': -59.55, 'bPrice': 20.4, 'bQty': 175, 'sPrice': 20.6, 'sQty': 525, 'ltq': 175, 'avgPrice': 22.98, 'quotes': 'Quotes Data', 'OI': '701925', 'CHNGOI': '', 'ttq': 1880375, 'totalBuyQt': 64050, 'totalSellQ': 113225, 'ttv': '4.32C', 'trend': '', 'lowerCktLm': 0.05, 'upperCktLm': 133.95, 'ltt': 'Mon Mar 20 14:58:27 2023', 'close': 51.3, 'exchange': 'NSE Futures & Options', 'stock_name': 'TATA CONSULTANCY SERVICES LTD', 'product_type': 'Options', 'expiry_date': '29-Mar-2023', 'strike_price': '3200', 'right': 'Call'}\n",
      "{'symbol': '4.1!46325', 'open': 47.85, 'last': 20.9, 'high': 48, 'low': 15.65, 'change': -59.26, 'bPrice': 20.65, 'bQty': 175, 'sPrice': 20.9, 'sQty': 350, 'ltq': 175, 'avgPrice': 22.98, 'quotes': 'Quotes Data', 'OI': '701925', 'CHNGOI': '', 'ttq': 1882825, 'totalBuyQt': 64575, 'totalSellQ': 112175, 'ttv': '4.33C', 'trend': '', 'lowerCktLm': 0.05, 'upperCktLm': 133.95, 'ltt': 'Mon Mar 20 14:58:41 2023', 'close': 51.3, 'exchange': 'NSE Futures & Options', 'stock_name': 'TATA CONSULTANCY SERVICES LTD', 'product_type': 'Options', 'expiry_date': '29-Mar-2023', 'strike_price': '3200', 'right': 'Call'}\n",
      "{'symbol': '4.1!46325', 'open': 47.85, 'last': 20.9, 'high': 48, 'low': 15.65, 'change': -59.26, 'bPrice': 20.8, 'bQty': 175, 'sPrice': 20.9, 'sQty': 175, 'ltq': 175, 'avgPrice': 22.98, 'quotes': 'Quotes Data', 'OI': '701925', 'CHNGOI': '', 'ttq': 1882825, 'totalBuyQt': 63525, 'totalSellQ': 111650, 'ttv': '4.33C', 'trend': '', 'lowerCktLm': 0.05, 'upperCktLm': 133.95, 'ltt': 'Mon Mar 20 14:58:41 2023', 'close': 51.3, 'exchange': 'NSE Futures & Options', 'stock_name': 'TATA CONSULTANCY SERVICES LTD', 'product_type': 'Options', 'expiry_date': '29-Mar-2023', 'strike_price': '3200', 'right': 'Call'}\n",
      "{'symbol': '4.1!46325', 'open': 47.85, 'last': 20.9, 'high': 48, 'low': 15.65, 'change': -59.26, 'bPrice': 20.75, 'bQty': 175, 'sPrice': 20.95, 'sQty': 1750, 'ltq': 175, 'avgPrice': 22.98, 'quotes': 'Quotes Data', 'OI': '701925', 'CHNGOI': '', 'ttq': 1882825, 'totalBuyQt': 63350, 'totalSellQ': 111650, 'ttv': '4.33C', 'trend': '', 'lowerCktLm': 0.05, 'upperCktLm': 133.95, 'ltt': 'Mon Mar 20 14:58:41 2023', 'close': 51.3, 'exchange': 'NSE Futures & Options', 'stock_name': 'TATA CONSULTANCY SERVICES LTD', 'product_type': 'Options', 'expiry_date': '29-Mar-2023', 'strike_price': '3200', 'right': 'Call'}\n",
      "{'symbol': '4.1!46325', 'open': 47.85, 'last': 20.9, 'high': 48, 'low': 15.65, 'change': -59.26, 'bPrice': 20.75, 'bQty': 175, 'sPrice': 20.95, 'sQty': 1750, 'ltq': 175, 'avgPrice': 22.98, 'quotes': 'Quotes Data', 'OI': '701925', 'CHNGOI': '', 'ttq': 1882825, 'totalBuyQt': 63525, 'totalSellQ': 111650, 'ttv': '4.33C', 'trend': '', 'lowerCktLm': 0.05, 'upperCktLm': 133.95, 'ltt': 'Mon Mar 20 14:58:41 2023', 'close': 51.3, 'exchange': 'NSE Futures & Options', 'stock_name': 'TATA CONSULTANCY SERVICES LTD', 'product_type': 'Options', 'expiry_date': '29-Mar-2023', 'strike_price': '3200', 'right': 'Call'}\n"
     ]
    }
   ],
   "source": [
    "def on_ticks(ticks):\n",
    "    global data\n",
    "    data = ticks\n",
    "    print(\"{}\".format(ticks))\n",
    "    \n",
    "breeze.on_ticks = on_ticks\n",
    "breeze.subscribe_feeds(exchange_code=\"NFO\", stock_code=\"TCS\", product_type=\"options\", expiry_date=\"29-Mar-2023\", strike_price=\"3200\", right=\"Call\", get_exchange_quotes=True, get_market_depth=False)\n",
    "#breeze.subscribe_feeds(exchange_code=\"NSE\", stock_code=\"TCS\", get_exchange_quotes=False, get_market_depth=True)\n",
    "#breeze.subscribe_feeds(stock_token=\"37517\")"
   ]
  },
  {
   "cell_type": "code",
   "execution_count": 42,
   "id": "e8edc088",
   "metadata": {},
   "outputs": [
    {
     "data": {
      "text/plain": [
       "{'message': 'socket server for rate refresh  has been disconnected.'}"
      ]
     },
     "execution_count": 42,
     "metadata": {},
     "output_type": "execute_result"
    },
    {
     "name": "stdout",
     "output_type": "stream",
     "text": [
      "{'symbol': '4.1!46325', 'open': 47.85, 'last': 20.9, 'high': 48, 'low': 15.65, 'change': -59.26, 'bPrice': 20.85, 'bQty': 175, 'sPrice': 20.95, 'sQty': 1575, 'ltq': 175, 'avgPrice': 22.98, 'quotes': 'Quotes Data', 'OI': '701925', 'CHNGOI': '', 'ttq': 1882825, 'totalBuyQt': 63700, 'totalSellQ': 111650, 'ttv': '4.33C', 'trend': '', 'lowerCktLm': 0.05, 'upperCktLm': 133.95, 'ltt': 'Mon Mar 20 14:58:41 2023', 'close': 51.3, 'exchange': 'NSE Futures & Options', 'stock_name': 'TATA CONSULTANCY SERVICES LTD', 'product_type': 'Options', 'expiry_date': '29-Mar-2023', 'strike_price': '3200', 'right': 'Call'}\n"
     ]
    }
   ],
   "source": [
    "breeze.unsubscribe_feeds(stock_token=\"4.1!11536\")\n",
    "breeze.ws_disconnect()"
   ]
  },
  {
   "cell_type": "code",
   "execution_count": null,
   "id": "1690d6ad",
   "metadata": {},
   "outputs": [],
   "source": [
    "data['depth'][1]"
   ]
  },
  {
   "cell_type": "markdown",
   "id": "7d08a02a",
   "metadata": {},
   "source": [
    "Subscribe NFO Feeds"
   ]
  },
  {
   "cell_type": "code",
   "execution_count": null,
   "id": "066f6db5",
   "metadata": {},
   "outputs": [
    {
     "name": "stdout",
     "output_type": "stream",
     "text": [
      "{'symbol': '4.1!46325', 'open': 47.85, 'last': 20.9, 'high': 48, 'low': 15.65, 'change': -59.26, 'bPrice': 20.85, 'bQty': 350, 'sPrice': 21, 'sQty': 1050, 'ltq': 175, 'avgPrice': 22.98, 'quotes': 'Quotes Data', 'OI': '701925', 'CHNGOI': '', 'ttq': 1879675, 'totalBuyQt': 64925, 'totalSellQ': 112700, 'ttv': '4.32C', 'trend': '', 'lowerCktLm': 0.05, 'upperCktLm': 133.95, 'ltt': 'Mon Mar 20 14:58:11 2023', 'close': 51.3, 'exchange': 'NSE Futures & Options', 'stock_name': 'TATA CONSULTANCY SERVICES LTD', 'product_type': 'Options', 'expiry_date': '29-Mar-2023', 'strike_price': '3200', 'right': 'Call'}\n"
     ]
    }
   ],
   "source": [
    "breeze.subscribe_feeds(exchange_code=\"NFO\", stock_code=\"TCS\", product_type=\"options\", expiry_date=\"29-Mar-2023\", strike_price=\"3200\", right=\"Call\", get_exchange_quotes=True, get_market_depth=False)\n"
   ]
  },
  {
   "cell_type": "markdown",
   "id": "4220e40f",
   "metadata": {},
   "source": [
    "Order Notification feeds"
   ]
  },
  {
   "cell_type": "code",
   "execution_count": null,
   "id": "a7f9ad90",
   "metadata": {},
   "outputs": [],
   "source": [
    "breeze.ws_disconnect()"
   ]
  },
  {
   "cell_type": "markdown",
   "id": "cdbb69f2",
   "metadata": {},
   "source": [
    "Examples for stock_token are \"4.1!38071\" or \"1.1!500780\".\n",
    "\n",
    "Template for stock_token : X.Y!<token> X : exchange code Y : Market Level data Token : ISEC stock code\n",
    "\n",
    "Value of X can be : 1 for BSE, 4 for NSE, 13 for NDX, 6 for MCX, 4 for NFO,\n",
    "\n",
    "Value of Y can be : 1 for Level 1 data, 4 for Level 2 data"
   ]
  },
  {
   "cell_type": "code",
   "execution_count": null,
   "id": "6e2fa156",
   "metadata": {},
   "outputs": [],
   "source": [
    "scrip = pd.read_csv(\"FONSEScripMaster.txt\")\n",
    "scrip = scrip[['Token', 'InstrumentName', 'ShortName', 'Series','ExpiryDate', 'StrikePrice']]\n",
    "scrip = scrip[scrip.ShortName == 'NIFTY']\n",
    "scrip = scrip[scrip.Series == 'FUTURE']\n",
    "scrip.head()"
   ]
  },
  {
   "cell_type": "code",
   "execution_count": 43,
   "id": "959e3d1c",
   "metadata": {},
   "outputs": [
    {
     "data": {
      "text/plain": [
       "{'exchange_code': 'NSE',\n",
       " 'exchange_stock_code': 'TCS',\n",
       " 'isec_stock_code': 'TCS',\n",
       " 'isec_token': '11536',\n",
       " 'company name': 'TATA CONSULTANCY SERVICES LTD',\n",
       " 'isec_token_level1': '4.1!11536',\n",
       " 'isec_token_level2': '4.2!11536'}"
      ]
     },
     "execution_count": 43,
     "metadata": {},
     "output_type": "execute_result"
    }
   ],
   "source": [
    "breeze.get_names(exchange_code = 'NSE',stock_code = 'TCS')"
   ]
  },
  {
   "cell_type": "code",
   "execution_count": 44,
   "id": "513f9403",
   "metadata": {},
   "outputs": [
    {
     "data": {
      "text/plain": [
       "{'Success': {'brokerage': 6.8029,\n",
       "  'exchange_turnover_charges': 0.0254,\n",
       "  'stamp_duty': 0.1361,\n",
       "  'stt': 0.9071,\n",
       "  'sebi_charges': 0.0009,\n",
       "  'gst': 1.2293,\n",
       "  'total_turnover_and_sebi_charges': 0.0263,\n",
       "  'total_other_charges': 2.2987,\n",
       "  'total_brokerage': 9.1015},\n",
       " 'Status': 200,\n",
       " 'Error': None}"
      ]
     },
     "execution_count": 44,
     "metadata": {},
     "output_type": "execute_result"
    }
   ],
   "source": [
    "breeze.preview_order(\n",
    "    stock_code = \"ICIBAN\",\n",
    "    exchange_code = \"NSE\",\n",
    "    product = \"margin\",\n",
    "    order_type = \"limit\",\n",
    "    price = \"907.05\",\n",
    "    action = \"buy\",\n",
    "    quantity = \"1\",\n",
    "    specialflag = \"N\"\n",
    ")"
   ]
  },
  {
   "cell_type": "code",
   "execution_count": null,
   "id": "618fb871",
   "metadata": {},
   "outputs": [],
   "source": []
  }
 ],
 "metadata": {
  "kernelspec": {
   "display_name": "Python 3 (ipykernel)",
   "language": "python",
   "name": "python3"
  },
  "language_info": {
   "codemirror_mode": {
    "name": "ipython",
    "version": 3
   },
   "file_extension": ".py",
   "mimetype": "text/x-python",
   "name": "python",
   "nbconvert_exporter": "python",
   "pygments_lexer": "ipython3",
   "version": "3.9.13"
  }
 },
 "nbformat": 4,
 "nbformat_minor": 5
}
